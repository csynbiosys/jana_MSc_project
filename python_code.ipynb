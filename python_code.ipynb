##Figure 5: Cell-to-cell behaviour of [D] with time; Q1 & Q2 AS VALUES!!##
##variables
X0 = 0.1
Xx = 2
Yx = 1.4
nx = 2
Kr = 1
Kq = 0.1
Kb = 0.5
Kc = 0.015
Kd = 0.5
KQ = 0.05
diff_cell = 2
gamma_i = 0.4
gamma_e = 0.2
diff_ex = 800 ##800 micrometer^2/sec



def eq_variables (Y, t, Ref, Q1t, Q2c):
    A_Q2 = Y[0]
    B = Y[1]
    C = Y[2]
    D = Y[3]
    dydt =np.empty(len(Y))
    dydt[0] = X0 + (Xx * ( (Kr ** nx) / ((Kr ** nx) + (Ref ** nx)) )) * (X0 + (Xx * ( (Q2c ** nx) / ((Kq ** nx) + (Q2c ** nx)) ))) - (Yx * A_Q2)  
    dydt[1] = X0 + (Xx * ((A_Q2 ** nx)/((Kb ** nx) +(A_Q2 ** nx)))) - (Yx * B)
    dydt[2] = X0 + (Xx * ((Q1t ** nx)/((Kc ** nx) +(Q1t ** nx)))) - (Yx * C)
    dydt[3] = X0 + (Xx * ((Kd ** nx) / ((Kd ** nx) + (C ** nx)))) - (Yx * D)
    return dydt

Y_initial2= np.array([0,0,0,0])
Y_initial_nonZero2= np.array([0.5,0.5,0.5,0.5])
t = np.linspace(0,400,100000)
##[Ref]
r05 = 0.5




eqr051 = odeint(eq_variables, Y_initial_nonZero2, t, args=(r05, 1, 1), mxstep=5000000)
eqr0505 = odeint(eq_variables, Y_initial_nonZero2, t, args=(r05, 0.5, 0.5), mxstep=5000000)
eqr0502 = odeint(eq_variables, Y_initial_nonZero2, t, args=(r05, 10, 0.2), mxstep=5000000)

e0qr051 = odeint(eq_variables, Y_initial2, t, args=(r05, 1, 1), mxstep=5000000)
e0qr0505 = odeint(eq_variables, Y_initial2, t, args=(r05, 0.5, 0.5), mxstep=5000000)
e0qr0502 = odeint(eq_variables, Y_initial2, t, args=(r05, 10, 0.2), mxstep=5000000)

plt.figure()

plt.plot(t, e0qr051[:,3], label = '[D], ref=0.5, q1=q2=1')
plt.plot(t, e0qr0505[:,3], label = '[D], ref=0.5, q1=q2=0.5')
plt.plot(t, e0qr0502[:,3], label = '[D], ref=0.5, q1=10, q2=0.2')
plt.legend(loc='best')
plt.xlabel('time')
plt.ylabel('conc.')
##figtext(.02, .02,"Q1t = 1, Q2c = 1")
plt.title('q = set variable, initial conc = 0')
plt.show()


plt.figure()

plt.plot(t, eqr051[:,3], label = '[D], ref=0.5, q1=q2=1')
plt.plot(t, eqr0505[:,3], label = '[D], ref=0.5, q1=q2=0.5')
plt.plot(t, eqr0502[:,3], label = '[D], ref=0.5, q1=10, q2=0.2')
plt.legend(loc='best')
plt.xlabel('time')
plt.ylabel('conc.')
plt.title('q = set variable, initial conc = 0.5')
##figtext(.02, .02,"Q1t = 1, Q2c = 1")

plt.show()
