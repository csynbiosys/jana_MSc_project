import numpy as np
import matplotlib.pyplot as plt
%matplotlib inline
from scipy.integrate import odeint
from scipy.optimize import fsolve
from pylab import *

#############
# Example 1 #
#############

##http://modelling3e4.connectmv.com/wiki/Software_tutorial/Integration_of_ODEs
import numpy as np
from scipy import integrate
from matplotlib.pylab import *


def tank(t, y):   
    Ref = 0.5
    X0 = 0.1
    Xx = 2
    Yx = 1.4
    nx = 2
    Kr = 1
    Kq = 0.1
    Kb = 0.5
    Kc = 0.015
    Kd = 0.5
    KQ = 0.05
    diff_cell = 2
    gamma_i = 0.4
    gamma_e = 0.2
    diff_ex = 13.3 ##800 micrometer^2/sec
    
    A_Q2 = y[0]
    B = y[1]
    C = y[2]
    D = y[3]
    Q1c = y[4]
    Q1e = y[5]
    Q1t = y[6]
    Q2c = y[7]
    Q2e = y[8]
    Q2t = y[9]
      
    ## Output from ODE
    n = len(y)
    
    dydt = np.zeros((n,1))
    
    ##A_Q2
    dydt[0] = (X0 + (Xx * ( (Kr ** nx) / ((Kr ** nx) + (Ref ** nx)) ))) * (X0 + (Xx * ( (Q2c ** nx) / ((Kq ** nx) + (Q2c ** nx)) ))) - (Yx * A_Q2)  
    ##B
    dydt[1] = X0 + (Xx * ((A_Q2 ** nx)/((Kb ** nx) +(A_Q2 ** nx)))) - (Yx * B)
    ##C
    dydt[2] = X0 + (Xx * ((Q1t ** nx)/((Kc ** nx) +(Q1t ** nx)))) - (Yx * C)
    ##D
    dydt[3] = X0 + (Xx * ((Kd ** nx) / ((Kd ** nx) + (C ** nx)))) - (Yx * D)
    ##Q1c
    dydt[4] = KQ * B + (diff_cell * (Q1e - Q1c)) - (gamma_i*Q1c)
    ##Q1t
    dydt[5] = (diff_cell * (Q1e - Q1t)) - (gamma_i*Q1t)
    ##Q1e
    dydt[6] = (diff_cell * (Q1c - Q1e)) + (diff_cell * (Q1t - Q1e)) - (gamma_e*Q1e) + (diff_ex * Q1e)
    ##Q2c
    dydt[7] = (diff_cell * (Q2e - Q2c)) - (gamma_i*Q2c)
    ##Q2t
    dydt[8] = (KQ*D) +(diff_cell * (Q2e - Q2t)) - (gamma_i*Q2t)
    ##Q2e
    dydt[9] = (diff_cell * (Q2c - Q2e)) + (diff_cell * (Q2t - Q2e)) - (gamma_e*Q2c)+ (diff_ex * Q2e)
   
    return dydt

# The ``driver`` that will integrate the ODE(s):
if __name__ == '__main__':
    
    # Start by specifying the integrator:
    # use ``vode`` with "backward differentiation formula"
    r = integrate.ode(eq3).set_integrator('vode', method='bdf')
    
    # Set the time range
    t_start = 0.0
    t_final = 400.0
    delta_t = 0.1
    
    # Number of time steps: 1 extra for initial condition
    num_steps = int(np.floor((t_final - t_start)/delta_t) + 1)
    
    # Set initial condition(s): for integrating variable and time!
    A_Q2_t_zero = 0.5
    B_t_zero = 0.5
    C_t_zero = 0.5
    D_t_zero = 0.5
    Q1c_t_zero = 0.5
    Q1e_t_zero = 0.5
    Q1t_t_zero = 0.5
    Q2c_t_zero = 0.5
    Q2e_t_zero = 0.5
    Q2t_t_zero = 0.5
    r.set_initial_value([A_Q2_t_zero, B_t_zero, C_t_zero, D_t_zero, Q1c_t_zero, Q1e_t_zero, Q1t_t_zero, Q2c_t_zero, Q2e_t_zero, Q2t_t_zero], t_start)
    
    # Additional Python step: create vectors to store trajectories
    t = np.zeros((num_steps, 1))
    D = np.zeros((num_steps, 1))
    t[0] = t_start
    D[0] = D_t_zero
    
    A_Q2 = np.zeros((num_steps, 1))
    B = np.zeros((num_steps, 1))
    C = np.zeros((num_steps, 1))
    Q1c = np.zeros((num_steps, 1))
    Q1t = np.zeros((num_steps, 1))
    Q1e = np.zeros((num_steps, 1))
    Q2c = np.zeros((num_steps, 1))
    Q2t = np.zeros((num_steps, 1))
    Q2e = np.zeros((num_steps, 1))

    A_Q2[0] = A_Q2_t_zero
    B[0] = B_t_zero
    C[0] = C_t_zero
    Q1c[0] = Q1c_t_zero
    Q1e [0] = Q1e_t_zero
    Q1t[0] = Q1t_t_zero
    Q2c[0] = Q2c_t_zero 
    Q2e[0] = Q2e_t_zero 
    Q2t[0] = Q2t_t_zero 

    
    # Integrate the ODE(s) across each delta_t timestep
    k = 1
    while r.successful() and k < num_steps:
        r.integrate(r.t + delta_t)
 
        # Store the results to plot later
        t[k] = r.t
        D[k] = r.y[3]
        k += 1
        
    # All done!  Plot the trajectories in two separate plots:
    fig = figure()
    ax1 = subplot(211)
    ax1.plot(t, D)
    ax1.set_xlim(t_start, t_final)
    ax1.set_xlabel('Time [minutes]')
    ax1.set_ylabel('Concentration [mol/L]')
    ax1.grid('on')
    fig.savefig('coupled-ode-Python.png')

#############
# Example 2 #
#############

##https://gist.github.com/alexblitz/1267fa8368a3f3818457d98fa9acaf03

import numpy as np
import matplotlib.pyplot as plt
from scipy import integrate
%matplotlib inline

#Define the fluxes (JahanModel_Flux.m)
def JahanModel_Flux(t,y): #, strain_no): #, continuous_flg):
    
    Ref = 0.5
    X0 = 0.1
    Xx = 2
    Yx = 1.4
    nx = 2
    Kr = 1
    Kq = 0.1
    Kb = 0.5
    Kc = 0.015
    Kd = 0.5
    KQ = 0.05
    diff_cell = 2
    gamma_i = 0.4
    gamma_e = 0.2
    diff_ex = 13.3 ##0.8 ##800 micrometer^2/sec
    
    A_Q2 = y[0]
    B = y[1]
    C = y[2]
    D = y[3]
    Q1c = y[4]
    Q1e = y[5]
    Q1t = y[6]
    Q2c = y[7]
    Q2e = y[8]
    Q2t = y[9]
    
    eA_Q2 = (X0 + (Xx * ( (Kr ** nx) / ((Kr ** nx) + (Ref ** nx)) ))) * (X0 + (Xx * ( (Q2c ** nx) / ((Kq ** nx) + (Q2c ** nx)) )))  
    eB = X0 + (Xx * ((A_Q2 ** nx)/((Kb ** nx) +(A_Q2 ** nx)))) 
    eC = X0 + (Xx * ((Q1t ** nx)/((Kc ** nx) +(Q1t ** nx)))) 
    eD = X0 + (Xx * ((Kd ** nx) / ((Kd ** nx) + (C ** nx)))) 
    eQ1c = KQ * B + (diff_cell * (Q1e - Q1c))
    eQ1t = (diff_cell * (Q1e - Q1t)) 
    eQ1e = (diff_cell * (Q1c - Q1e)) + (diff_cell * (Q1t - Q1e)) + (diff_ex * Q1e)
    eQ2c = (diff_cell * (Q2e - Q2c)) 
    eQ2t = (KQ*D) +(diff_cell * (Q2e - Q2t))
    eQ2e = (diff_cell * (Q2c - Q2e)) + (diff_cell * (Q2t - Q2e))+ (diff_ex * Q2e)
    
    
    Flux = [ eA_Q2, eB, eC, eD, eQ1c, eQ1t, eQ1e, eQ2c, eQ2t, eQ2t ]       
    
    return Flux
    
    
#Define the ODEs (JahanModel_ODE.m)

def JahanModel_ODE(t, y): #, strain_no, continuous_flg):
    
    Flux = JahanModel_Flux(t, y) #, strain_no, continuous_flg)
    
    eA_Q2        = Flux[0]
    eB          = Flux[1]
    eC          = Flux[2]
    eD   = Flux[3]
    eQ1c        = Flux[4]
    eQ1t = Flux[5]
    eQ1e         = Flux[6]
    eQ2c         = Flux[7]
    eQ2t         = Flux[8]
    eQ2e         = Flux[9]
    
    xA_Q2 = eA_Q2 - (Yx * A_Q2)
    xB = eB - (Yx * B)
    xC = eC - (Yx * C)
    xD = eD - (Yx * D)
    xQ1c = eQ1c - (gamma_i*Q1c)
    xQ1t = eQ1t - (gamma_i*Q1t)
    xQ1e = eQ1e - (gamma_e*Q1e) 
    xQ2c = eQ2c - (gamma_i*Q2c)
    xQ2t = eQ2t - (gamma_i*Q2t)
    xQ2e = eQ2e - (gamma_e*Q2c)
    
    ##if t < 0:
      ##  X_dot     = 0
        ##GLCex_dot = 0
        ##ACEex_dot = 0
    
    dydt = [ xA_Q2, xB, xC, xD, xQ1c, xQ1t, xQ1e, xQ2c, xQ2t, xQ2e ]
    
    return dydt
    
# Get initial conditions for simulation (getInitialCondition.m)
def getInitialCondition():
##def getInitialCondition(y):
    
    y0 = np.zeros(9)
    y0[0] = 0.5     
    y0[1] = 0.5     
    y0[2] = 0.5     
    y0[3] = 0.5     
    y0[4] = 0.5     
    y0[5] = 0.5     
    y0[6] = 0.5     
    y0[7] = 0.5     
    y0[8] = 0.5     
    y0[9] = 0.5     
    
    return y0
    
#SOLVER

## Wild Type
#strain_no = 1 # strain number 1 - wild type
#continuous_flg = 0

#time
t_start = -10
t_end = 140
t_step = 1

# Number of time steps: 1 extra for initial condition
num_steps = np.floor((t_end - t_start)/t_step) + 1

##
##
b = np.array([0.5,0.5,0.5,0.5,0.5,0.5,0.5,0.5,0.5])
##y0 = getInitialCondition(b)
##y0 = getInitialCondition()
#y0[0] = 0.011        # X
#y0[1] = 4.0/180*1e+3 # GLCex
#y0[11] = 0.0/ 60*1e+3 # ACEex
##n = len(y0)
n = len(b)

# Additional Python step: create vectors to store trajectories
t = np.zeros((int(num_steps), 1))
C = np.zeros((int(num_steps), n))
t[0] = t_start
C[0,:] = y0

#integration

r = integrate.ode(JahanModel_ODE).set_integrator('vode', method='bdf', order=15) #, rtol = 1e-6)
r.set_initial_value(b, t_start) #.set_f_params(strain_no, continuous_flg)

# Integrate the ODE(s) across each delta_t timestep
k = 1
while r.successful() and k < num_steps:
    r.integrate(r.t + t_step)

    # Store the results to plot later
    t[k] = r.t
    C[k,:] = r.y #[0]
    k += 1
