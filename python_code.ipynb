///is this a branch??
import numpy as np
import matplotlib.pyplot as plt
%matplotlib inline
from scipy.integrate import odeint
from scipy.optimize import fsolve
from pylab import *

#################################
##Figure 5: Cell-to-cell behaviour of [D] with time##
#################################

##not discretized
##variables
X0 = 1
Xx = 2
Yx = 1.4
nx = 2
Kr = 1
Kq = 0.1
Kb = 0.5
Kc = 0.015
Kd = 0.5
KQ = 0.05
diff_cell = 2
gamma_i = 0.4
gamma_e = 0.2
diff_ex = 0.8 ##800 micrometer^2/sec



def eq1 (Y, t, Ref):
    A_Q2 = Y[0]
    B = Y[1]
    C = Y[2]
    D = Y[3]
    Q1c = Y[4]
    Q1e = Y[5]
    Q1t = Y[6]
    Q2c = Y[7]
    Q2e = Y[8]
    Q2t = Y[9]
    dydt =np.empty(len(Y))
    dydt[0] = X0 + (Xx * ( (Kr ** nx) / ((Kr ** nx) + (Ref ** nx)) )) * (X0 + (Xx * ( (Q2c ** nx) / ((Kq ** nx) + (Q2c ** nx)) ))) - (Yx * A_Q2)  
    dydt[1] = X0 + (Xx * ((A_Q2 ** nx)/((Kb ** nx) +(A_Q2 ** nx)))) - (Yx * B)
    dydt[2] = X0 + (Xx * ((Q1c ** nx)/((Kc ** nx) +(Q1c ** nx)))) - (Yx * C)
    dydt[3] = X0 + (Xx * ((Kd ** nx) / ((Kd ** nx) + (C ** nx)))) - (Yx * D)
    dydt[4] = KQ * B + (diff_cell * (Q1e - Q1c)) - (gamma_i*Q1c)
    dydt[5] = (diff_cell * (Q1e - Q1t)) - (gamma_i*Q1t)
    dydt[6] = (diff_cell * (Q1c - Q1e)) + (diff_cell * (Q1t - Q1e)) - (gamma_e*Q1c + diff_ex * Q1e)
    dydt[7] = (diff_cell * (Q2e - Q2c)) - (gamma_i*Q2c)
    dydt[8] = KQ*D+(diff_cell * (Q2e - Q2t)) - (gamma_i*Q2t)
    dydt[9] = (diff_cell * (Q2c - Q2e)) + (diff_cell * (Q2t - Q2e)) - (gamma_e*Q2c + diff_ex * Q2e)
    return dydt

Y_initial= np.array([0,0,0,0,0,0,0,0,0,0])
Y_initial_nonZero= np.array([0,0,0,0,0,0,0,0,0,0])
t = np.linspace(0,400,100000)
r100 = 100 ##[Ref]
r05 = 0.5
r0 = 0
##eq1 = odeint(eq1, Y_initial, t, args=(r,), mxstep=5000000)
eqr100 = odeint(eq1, Y_initial_nonZero, t, args=(r100,), mxstep=5000000)
eqr05 = odeint(eq1, Y_initial_nonZero, t, args=(r05,), mxstep=5000000)
eqr0 = odeint(eq1, Y_initial_nonZero, t, args=(r0,), mxstep=5000000)

##print(eq100[:,3])

plt.figure()
plt.plot(t, eqr100[:,3], label = '[D], ref=100')
plt.plot(t, eqr05[:,3], label = '[D], ref=0.5')
plt.plot(t, eqr0[:,3], label = '[D], ref=0')
plt.legend(loc='best')
plt.xlabel('time')
plt.ylabel('conc.')
plt.show()

#################################
##discretized?

import numpy as np
from scipy import integrate
from matplotlib.pylab import *


def eq3 (Y, t):
    """
    from:
    http://modelling3e4.connectmv.com/wiki/Software_tutorial/Integration_of_ODEs
    """
    
    Ref = 0.5
    X0 = 1
    Xx = 2
    Yx = 1.4
    nx = 2
    Kr = 1
    Kq = 0.1
    Kb = 0.5
    Kc = 0.015
    Kd = 0.5
    KQ = 0.05
    diff_cell = 2
    gamma_i = 0.4
    gamma_e = 0.2
    diff_ex = 0.8 ##800 micrometer^2/sec
    
    A_Q2 = Y[0]
    B = Y[1]
    C = Y[2]
    D = Y[3]
    Q1c = Y[4]
    Q1e = Y[5]
    Q1t = Y[6]
    Q2c = Y[7]
    Q2e = Y[8]
    Q2t = Y[9]
      
    ## Output from ODE
    n = len(Y)
    dydt = np.zeros((n,1))
    dydt[0] = X0 + (Xx * ( (Kr ** nx) / ((Kr ** nx) + (Ref ** nx)) )) * (X0 + (Xx * ( (Q2c ** nx) / ((Kq ** nx) + (Q2c ** nx)) ))) - (Yx * A_Q2)  
    dydt[1] = X0 + (Xx * ((A_Q2 ** nx)/((Kb ** nx) +(A_Q2 ** nx)))) - (Yx * B)
    dydt[2] = X0 + (Xx * ((Q1c ** nx)/((Kc ** nx) +(Q1c ** nx)))) - (Yx * C)
    dydt[3] = X0 + (Xx * ((Kd ** nx) / ((Kd ** nx) + (C ** nx)))) - (Yx * D)
    dydt[4] = KQ * B + (diff_cell * (Q1e - Q1c)) - (gamma_i*Q1c)
    dydt[5] = (diff_cell * (Q1e - Q1t)) - (gamma_i*Q1t)
    dydt[6] = (diff_cell * (Q1c - Q1e)) + (diff_cell * (Q1t - Q1e)) - (gamma_e*Q1c + diff_ex * Q1e)
    dydt[7] = (diff_cell * (Q2e - Q2c)) - (gamma_i*Q2c)
    dydt[8] = KQ*D+(diff_cell * (Q2e - Q2t)) - (gamma_i*Q2t)
    dydt[9] = (diff_cell * (Q2c - Q2e)) + (diff_cell * (Q2t - Q2e)) - (gamma_e*Q2c + diff_ex * Q2e)
    return dydt

# The ``driver`` that will integrate the ODE(s):
if __name__ == '__main__':
    
    # Start by specifying the integrator:
    # use ``vode`` with "backward differentiation formula"
    r = integrate.ode(eq3).set_integrator('vode', method='bdf')
    
    # Set the time range
    t_start = 0.0
    t_final = 400.0
    delta_t = 0.1
    
    # Number of time steps: 1 extra for initial condition
    num_steps = np.floor((t_final - t_start)/delta_t) + 1
    
    # Set initial condition(s): for integrating variable and time!
    A_Q2_t_zero = 0.5
    B_t_zero = 0.5
    C_t_zero = 0.5
    D_t_zero = 0.5
    Q1c_t_zero = 0.5
    Q1e_t_zero = 0.5
    Q1t_t_zero = 0.5
    Q2c_t_zero = 0.5
    Q2e_t_zero = 0.5
    Q2t_t_zero = 0.5
    r.set_initial_value([A_Q2_t_zero, B_t_zero, C_t_zero, D_t_zero, Q1c_t_zero, Q1e_t_zero, Q1t_t_zero, Q2c_t_zero, Q2e_t_zero, Q2t_t_zero], t_start)
    
    # Additional Python step: create vectors to store trajectories
    t = np.zeros((num_steps, 1))
    D = np.zeros((num_steps, 1))
    t[0] = t_start
    D[0] = D_t_zero
    
    # Integrate the ODE(s) across each delta_t timestep
    k = 1
    while r.successful() and k < num_steps:
        r.integrate(r.t + delta_t)
 
        # Store the results to plot later
        t[k] = r.t
        D[k] = r.y[0]
        k += 1
        
    # All done!  Plot the trajectories in two separate plots:
    fig = figure()
    ax1 = subplot(211)
    ax1.plot(t, D)
    ax1.set_xlim(t_start, t_final)
    ax1.set_xlabel('Time [minutes]')
    ax1.set_ylabel('Concentration [mol/L]')
    ax1.grid('on')

##probably only for dydt[6] and dydt[9]
